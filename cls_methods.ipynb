{
 "cells": [
  {
   "cell_type": "code",
   "execution_count": 16,
   "source": [
    "17 / 2 % 2 * 3**3"
   ],
   "outputs": [
    {
     "output_type": "execute_result",
     "data": {
      "text/plain": [
       "13.5"
      ]
     },
     "metadata": {},
     "execution_count": 16
    }
   ],
   "metadata": {}
  },
  {
   "cell_type": "code",
   "execution_count": 15,
   "source": [
    "# __call__ позволяет вызывать класс как функцию и принимать все виды аргументов.\n",
    "\n",
    "class Event(list):\n",
    "   def __call__(self, *args, **kwargs):\n",
    "       # при вызове события как функции, из списка функций в событии - вызваем каждую\n",
    "        for item in self:\n",
    "            item(*args, **kwargs)\n",
    "\n",
    "\n",
    "class Person:\n",
    "    def __init__(self, name):\n",
    "        self.name = name\n",
    "        self.help = Event()\n",
    "        \n",
    "    def catch(self):\n",
    "        # тут происходит вызов события, добавляем аргумент имени\n",
    "        self.help(self.name)\n",
    "        \n",
    "        \n",
    "def call_help(name):\n",
    "    print(f'{name} is calling for help!')\n",
    "    \n",
    "def ill(name):\n",
    "    print(f'{name} is illing!')\n",
    "    \n",
    "       \n",
    "n, m = 24, 23         \n",
    "person = Person('Juli')\n",
    "# добавляем функции событий в список\n",
    "person.help.append(call_help)\n",
    "person.help.append(ill)\n",
    "# после вызываем все\n",
    "person.catch()\n",
    "# удалим одну из функция из списка\n",
    "person.help.remove(ill)\n",
    "# снова вызовем все\n",
    "person.catch()\n"
   ],
   "outputs": [
    {
     "output_type": "stream",
     "name": "stdout",
     "text": [
      "Juli is calling for help!\n",
      "Juli is illing!\n",
      "Juli is calling for help!\n"
     ]
    }
   ],
   "metadata": {}
  },
  {
   "cell_type": "code",
   "execution_count": 6,
   "source": [
    "# super()\n",
    "\n",
    "# Его основная задача - это возможность использовать методы и атрибуты родителя в классе потомке\n",
    "\n",
    "class Parent:\n",
    "    def __init__(self):\n",
    "        self.mant = 5\n",
    "        print('Инициализирован класс Parent')\n",
    "        \n",
    "class Child(Parent):\n",
    "    def __init__(self):\n",
    "        self.mant = 10\n",
    "        print('Инициализирован класс Child')\n",
    "        # забираем атрибуты у родительского класса\n",
    "        super().__init__()\n",
    "        print(self.mant) # ->> 5\n",
    "        \n",
    "p = Parent()\n",
    "c = Child()"
   ],
   "outputs": [
    {
     "output_type": "stream",
     "name": "stdout",
     "text": [
      "Инициализирован класс Parent\n",
      "Инициализирован класс Child\n",
      "Инициализирован класс Parent\n",
      "5\n"
     ]
    }
   ],
   "metadata": {}
  },
  {
   "cell_type": "code",
   "execution_count": 4,
   "source": [
    "# @abstractmethod\n",
    "\n",
    "# Абстрактные классы широко фигурируют в ООП, часто всплывают в шаблонах проектирования. Они говорят, что общий интерфейс уже обозначен,\n",
    "# но этот класс еще не предназначен для использования, кроме как для наследования от него конкретных потомков.\n",
    "\n",
    "from abc import ABC, abstractmethod\n",
    "\n",
    "class Hero(ABC):\n",
    "    @abstractmethod\n",
    "    def attack(self):\n",
    "        pass\n",
    "    \n",
    "# h = Hero() # --> вызовет ошибку \"Can't instantiate abstract class Hero with abstract methods attack\" \n",
    "\n",
    "class Archer(Hero):\n",
    "    def attack(self):\n",
    "        print('выстрел из лука')\n",
    "        \n",
    "Archer().attack() # --> правильное использование абстрактного класса и метода\n"
   ],
   "outputs": [
    {
     "output_type": "stream",
     "name": "stdout",
     "text": [
      "выстрел из лука\n"
     ]
    }
   ],
   "metadata": {}
  },
  {
   "cell_type": "code",
   "execution_count": 7,
   "source": [
    "# @property\n",
    "\n",
    "# В основном используется для переопределения атрибутов класса, не меняя при этом поведение самого класса\n",
    "\n",
    "# Начнем с простого примера. Декоратор свойства устанавливает метод как свойство и его можно вызывать без скобок,\n",
    "# а также использовать внутри класса\n",
    "\n",
    "class Thing:\n",
    "    def __init__(self, my_word):\n",
    "        self._word = my_word \n",
    "    \n",
    "    # метод определен как свойство\n",
    "    @property\n",
    "    def word(self):\n",
    "        return self._word\n",
    "\n",
    "print( Thing('ok').word )\n",
    "\n",
    "# Второй пример не более сложный. Все вполне понятно. @property тут также выступает в роли getter\n",
    "\n",
    "class C(object):\n",
    "    def __init__(self):\n",
    "        self._name = None\n",
    "\n",
    "    @property\n",
    "    def x(self):\n",
    "        \"\"\"I'm the self.x property.\"\"\"\n",
    "        return self._name\n",
    "\n",
    "    @x.setter\n",
    "    def x(self, value):\n",
    "        \"\"\"Set new value for self.x\"\"\"\n",
    "        self._name = value\n",
    "\n",
    "    @x.deleter\n",
    "    def x(self):\n",
    "        \"\"\"Delete self.x\"\"\"\n",
    "        del self._name\n",
    "        \n",
    "cl = C()\n",
    "cl.x # ->> None\n",
    "cl.x = 'mark'\n",
    "cl.x # ->> \"mark\"\n",
    "del cl.x\n",
    "# если вызвать cl.x ->> AttributeError\n"
   ],
   "outputs": [
    {
     "output_type": "stream",
     "name": "stdout",
     "text": [
      "ok\n"
     ]
    }
   ],
   "metadata": {}
  },
  {
   "cell_type": "code",
   "execution_count": 1,
   "source": [
    "#  __iter__() и __next__()\n",
    "\n",
    "# Позволяеет превратить класс в итератор аттрибутов класса\n",
    "\n",
    "class Riter(object):\n",
    "    def __init__(self, iterable):\n",
    "        self.iterable = iterable\n",
    "        self.it = iter(iterable)\n",
    "    def __next__(self): # python 2: next\n",
    "        try:\n",
    "            return next(self.it)\n",
    "        except StopIteration:\n",
    "            self.it = iter(self.iterable)\n",
    "            raise\n",
    "    def __iter__(self):\n",
    "        return self\n",
    "        # yield self --> собственный генератор\n",
    "    \n",
    "a = [1, 2, 3]\n",
    "it = Riter(a)\n",
    "for x in it:\n",
    "    print(x)"
   ],
   "outputs": [
    {
     "output_type": "stream",
     "name": "stdout",
     "text": [
      "1\n",
      "2\n",
      "3\n"
     ]
    }
   ],
   "metadata": {}
  },
  {
   "cell_type": "code",
   "execution_count": 23,
   "source": [
    "# eval\n",
    "\n",
    "# Интерпретирует строку как код\n",
    "# Опасно для безопасности при вводе через input(), но удобно в качестве внутреннего использования\\\n",
    "   \n",
    "x = 1    \n",
    "eval('x + 3 + x') # ->>  5"
   ],
   "outputs": [
    {
     "output_type": "execute_result",
     "data": {
      "text/plain": [
       "5"
      ]
     },
     "metadata": {},
     "execution_count": 23
    }
   ],
   "metadata": {}
  },
  {
   "cell_type": "code",
   "execution_count": 28,
   "source": [
    "# Enum\n",
    "\n",
    "# Один из модулей языка python. Переводится как \"Перечисление\".\n",
    "# Используется для получения имени и значения неизменяемой классовой переменной\n",
    "\n",
    "from enum import Enum\n",
    "\n",
    "\n",
    "class Sequences(Enum): # Создаем класс Sequences, родительским классом \n",
    "    red = 1           # которого является класс Enum\n",
    "    yellow = 2\n",
    "    green = 3\n",
    "    \n",
    "Sequences.green.name # --> 'green'\n",
    "Sequences.yellow.value # --> 2 "
   ],
   "outputs": [
    {
     "output_type": "execute_result",
     "data": {
      "text/plain": [
       "2"
      ]
     },
     "metadata": {},
     "execution_count": 28
    }
   ],
   "metadata": {}
  },
  {
   "cell_type": "code",
   "execution_count": 9,
   "source": [
    "# @staticmethod\n",
    "\n",
    "# Для некоторых методов класса нет необходимости передавать как аттрибут объект класса\n",
    "# Для таких методов существует статический декоратор. С применением его, отпадает обязательная передача self в метод\n",
    "# и данный метод можно будет вызвать без инициализации объекта класса\n",
    "\n",
    "class A:\n",
    "    @staticmethod\n",
    "    def meth(value):\n",
    "        print(value)\n",
    "        \n",
    "A().meth('fish') # можно использовать так\n",
    "A.meth('fish') # а можно так"
   ],
   "outputs": [
    {
     "output_type": "stream",
     "name": "stdout",
     "text": [
      "fish\n",
      "fish\n"
     ]
    }
   ],
   "metadata": {}
  },
  {
   "cell_type": "code",
   "execution_count": 29,
   "source": [
    "# @classmethod\n",
    "\n",
    "# Используется в основном для переопределения методов класса\n",
    "# Может так вызываться без инициализации класса и работать с методами основного класса, на не экземплярами\n",
    "\n",
    "# Пример переопределения статического метода класса в наследуемом классе с помощью метода класса\n",
    "\n",
    "class Piu:\n",
    "   @staticmethod\n",
    "   def piu_piu(name):\n",
    "      print(f'{name} killed.')\n",
    "      \n",
    "      \n",
    "class Mor(Piu):\n",
    "   @classmethod\n",
    "   def kill_them(cls, kill_list):\n",
    "      for name in kill_list:\n",
    "         cls.piu_piu(name)\n",
    "      print('All killed, lord!')\n",
    "      \n",
    "\n",
    "Mor.kill_them(['Monstr', 'Lizard', 'Rabbit'])\n",
    "         \n",
    "print('\\n')         \n",
    "\n",
    "# Пример вызова метода __name__ класса без инициализации\n",
    "class Hero:\n",
    "\n",
    "  @staticmethod\n",
    "  def say_hello():\n",
    "     print(\"Hello bro\")\n",
    "\n",
    "  @classmethod\n",
    "  def say_class_hello(cls):\n",
    "     if(cls.__name__==\"HeroSon\"):\n",
    "        print(\"Hi Kido\")\n",
    "     elif(cls.__name__==\"HeroDaughter\"):\n",
    "        print(\"Hi Princess\")\n",
    "\n",
    "\n",
    "class HeroSon(Hero):\n",
    "  def say_son_hello(self):\n",
    "     print(\"test  hello\")\n",
    "\n",
    "\n",
    "class HeroDaughter(Hero):\n",
    "  def say_daughter_hello(self):\n",
    "     print(\"test  hello daughter\")\n",
    "     \n",
    "\n",
    "HeroSon.say_class_hello() # ->> Hi Kido\n",
    "HeroDaughter.say_class_hello() # ->> Hi Princess\n",
    "HeroSon.say_hello() # ->> Hello bro\n",
    "HeroSon().say_son_hello() # ->> test hello\n"
   ],
   "outputs": [
    {
     "output_type": "stream",
     "name": "stdout",
     "text": [
      "Monstr killed.\n",
      "Lizard killed.\n",
      "Rabbit killed.\n",
      "All killed, lord!\n",
      "\n",
      "\n",
      "Hi Kido\n",
      "Hi Princess\n",
      "Hello bro\n",
      "test  hello\n"
     ]
    }
   ],
   "metadata": {}
  },
  {
   "cell_type": "code",
   "execution_count": null,
   "source": [],
   "outputs": [],
   "metadata": {}
  }
 ],
 "metadata": {
  "orig_nbformat": 4,
  "language_info": {
   "name": "python",
   "version": "3.8.10",
   "mimetype": "text/x-python",
   "codemirror_mode": {
    "name": "ipython",
    "version": 3
   },
   "pygments_lexer": "ipython3",
   "nbconvert_exporter": "python",
   "file_extension": ".py"
  },
  "kernelspec": {
   "name": "python3",
   "display_name": "Python 3.8.10 64-bit ('venv': venv)"
  },
  "interpreter": {
   "hash": "ad3f4e6ee3734041597e5129c97d1766cefd3aa095eb9fb399b71fea58beb83d"
  }
 },
 "nbformat": 4,
 "nbformat_minor": 2
}