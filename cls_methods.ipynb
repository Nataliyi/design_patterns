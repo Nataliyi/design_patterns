{
 "cells": [
  {
   "cell_type": "code",
   "execution_count": 4,
   "source": [
    "class Circle:\n",
    "  def __init__(self, radius):\n",
    "    self.radius = radius\n",
    "\n",
    "  def resize(self, factor):\n",
    "    self.radius *= factor\n",
    "\n",
    "  def __str__(self):\n",
    "    # todo\n",
    "    return f'A Circle of radius {self.radius}'\n",
    "\n",
    "class Square:\n",
    "  def __init__(self, side):\n",
    "    self.side = side\n",
    "\n",
    "  def __str__(self):\n",
    "    # todo\n",
    "    return f'A Square of side {self.side}'\n",
    "\n",
    "\n",
    "class ColoredShape:\n",
    "  def __init__(self, shape, color):\n",
    "    self.color = color\n",
    "    self.shape = shape\n",
    "\n",
    "  def resize(self, factor):\n",
    "    # todo\n",
    "    # note that a Square doesn't have resize()\n",
    "    if self.shape.__class__.__name__ == 'Square':\n",
    "        raise NotImplementedError\n",
    "    elif self.shape.__class__.__name__ == 'Circle':\n",
    "        self.shape.radius = factor\n",
    "    \n",
    "\n",
    "  def __str__(self):\n",
    "    # todo\n",
    "    f'{self.shape} has the color {self.color}'"
   ],
   "outputs": [
    {
     "output_type": "execute_result",
     "data": {
      "text/plain": [
       "'Shape'"
      ]
     },
     "metadata": {},
     "execution_count": 4
    }
   ],
   "metadata": {}
  },
  {
   "cell_type": "code",
   "execution_count": 6,
   "source": [
    "# Метод super() - Супреме\n",
    "# Его основная задача - это возможность использовать методы и атрибуты родителя в классе потомке\n",
    "\n",
    "class Parent:\n",
    "    def __init__(self):\n",
    "        self.mant = 5\n",
    "        print('Инициализирован класс Parent')\n",
    "        \n",
    "class Child(Parent):\n",
    "    def __init__(self):\n",
    "        self.mant = 10\n",
    "        print('Инициализирован класс Child')\n",
    "        # забираем атрибуты у родительского класса\n",
    "        super().__init__()\n",
    "        print(self.mant) # --> 5\n",
    "        \n",
    "p = Parent()\n",
    "c = Child()"
   ],
   "outputs": [
    {
     "output_type": "stream",
     "name": "stdout",
     "text": [
      "Инициализирован класс Parent\n",
      "Инициализирован класс Child\n",
      "Инициализирован класс Parent\n",
      "5\n"
     ]
    }
   ],
   "metadata": {}
  },
  {
   "cell_type": "code",
   "execution_count": 4,
   "source": [
    "# Абстракстные классы и методы @abstractmethod\n",
    "# Абстрактные классы широко фигурируют в ООП, часто всплывают в шаблонах проектирования. Они говорят, что общий интерфейс уже обозначен,\n",
    "# но этот класс еще не предназначен для использования, кроме как для наследования от него конкретных потомков.\n",
    "\n",
    "from abc import ABC, abstractmethod\n",
    "\n",
    "class Hero(ABC):\n",
    "    @abstractmethod\n",
    "    def attack(self):\n",
    "        pass\n",
    "    \n",
    "# h = Hero() # --> вызовет ошибку \"Can't instantiate abstract class Hero with abstract methods attack\" \n",
    "\n",
    "class Archer(Hero):\n",
    "    def attack(self):\n",
    "        print('выстрел из лука')\n",
    "        \n",
    "Archer().attack() # --> правильное использование абстрактного класса и метода\n"
   ],
   "outputs": [
    {
     "output_type": "stream",
     "name": "stdout",
     "text": [
      "выстрел из лука\n"
     ]
    }
   ],
   "metadata": {}
  },
  {
   "cell_type": "code",
   "execution_count": 5,
   "source": [
    "# Декоратор свойства @property"
   ],
   "outputs": [],
   "metadata": {}
  },
  {
   "cell_type": "code",
   "execution_count": 1,
   "source": [
    "# Декоратор повтора @retry"
   ],
   "outputs": [],
   "metadata": {}
  },
  {
   "cell_type": "code",
   "execution_count": 1,
   "source": [
    "# Методы __iter__() и __next__() - Итератор\n",
    "# Позволяеет превратить класс в итератор аттрибутов класса\n",
    "\n",
    "class Riter(object):\n",
    "    def __init__(self, iterable):\n",
    "        self.iterable = iterable\n",
    "        self.it = iter(iterable)\n",
    "    def __next__(self): # python 2: next\n",
    "        try:\n",
    "            return next(self.it)\n",
    "        except StopIteration:\n",
    "            self.it = iter(self.iterable)\n",
    "            raise\n",
    "    def __iter__(self):\n",
    "        return self\n",
    "        # yield self --> собственный генератор\n",
    "    \n",
    "a = [1, 2, 3]\n",
    "it = Riter(a)\n",
    "for x in it:\n",
    "    print(x)"
   ],
   "outputs": [
    {
     "output_type": "stream",
     "name": "stdout",
     "text": [
      "1\n",
      "2\n",
      "3\n"
     ]
    }
   ],
   "metadata": {}
  },
  {
   "cell_type": "code",
   "execution_count": 3,
   "source": [
    "# eval"
   ],
   "outputs": [],
   "metadata": {}
  },
  {
   "cell_type": "code",
   "execution_count": 4,
   "source": [
    "# Enum"
   ],
   "outputs": [],
   "metadata": {}
  },
  {
   "cell_type": "code",
   "execution_count": 5,
   "source": [
    "# @staticmethod"
   ],
   "outputs": [],
   "metadata": {}
  },
  {
   "cell_type": "code",
   "execution_count": null,
   "source": [
    "# @classmethod"
   ],
   "outputs": [],
   "metadata": {}
  }
 ],
 "metadata": {
  "orig_nbformat": 4,
  "language_info": {
   "name": "python",
   "version": "3.8.10",
   "mimetype": "text/x-python",
   "codemirror_mode": {
    "name": "ipython",
    "version": 3
   },
   "pygments_lexer": "ipython3",
   "nbconvert_exporter": "python",
   "file_extension": ".py"
  },
  "kernelspec": {
   "name": "python3",
   "display_name": "Python 3.8.10 64-bit ('venv': venv)"
  },
  "interpreter": {
   "hash": "ad3f4e6ee3734041597e5129c97d1766cefd3aa095eb9fb399b71fea58beb83d"
  }
 },
 "nbformat": 4,
 "nbformat_minor": 2
}