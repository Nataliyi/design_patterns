{
 "cells": [
  {
   "cell_type": "code",
   "execution_count": 1,
   "source": [
    "# Метод super() - Супреме\n",
    "# Его основная задача - это возможность использовать методы и атрибуты родителя в классе потомке\n",
    "\n",
    "class Parent:\n",
    "    def __init__(self):\n",
    "        self.mant = 5\n",
    "        print('Инициализирован класс Parent')\n",
    "        \n",
    "class Child(Parent):\n",
    "    def __init__(self):\n",
    "        self.mant = 10\n",
    "        print('Инициализирован класс Child')\n",
    "        # забираем атрибуты у родительского класса\n",
    "        super().__init__()\n",
    "        print(self.mant) # --> 5\n",
    "        \n",
    "p = Parent()\n",
    "c = Child()"
   ],
   "outputs": [
    {
     "output_type": "stream",
     "name": "stdout",
     "text": [
      "Инициализирован класс Parent\n",
      "Инициализирован класс Child\n",
      "Инициализирован класс Parent\n",
      "5\n"
     ]
    }
   ],
   "metadata": {}
  },
  {
   "cell_type": "code",
   "execution_count": 4,
   "source": [
    "# Абстракстные классы и методы @abstractmethod\n",
    "# Абстрактные классы широко фигурируют в ООП, часто всплывают в шаблонах проектирования. Они говорят, что общий интерфейс уже обозначен,\n",
    "# но этот класс еще не предназначен для использования, кроме как для наследования от него конкретных потомков.\n",
    "\n",
    "from abc import ABC, abstractmethod\n",
    "\n",
    "class Hero(ABC):\n",
    "    @abstractmethod\n",
    "    def attack(self):\n",
    "        pass\n",
    "    \n",
    "# h = Hero() # --> вызовет ошибку \"Can't instantiate abstract class Hero with abstract methods attack\" \n",
    "\n",
    "class Archer(Hero):\n",
    "    def attack(self):\n",
    "        print('выстрел из лука')\n",
    "        \n",
    "Archer().attack() # --> правильное использование абстрактного класса и метода\n"
   ],
   "outputs": [
    {
     "output_type": "stream",
     "name": "stdout",
     "text": [
      "выстрел из лука\n"
     ]
    }
   ],
   "metadata": {}
  },
  {
   "cell_type": "code",
   "execution_count": 5,
   "source": [
    "# Декоратор свойства @property"
   ],
   "outputs": [],
   "metadata": {}
  },
  {
   "cell_type": "code",
   "execution_count": null,
   "source": [
    "# Декоратор повтора @retry"
   ],
   "outputs": [],
   "metadata": {}
  }
 ],
 "metadata": {
  "orig_nbformat": 4,
  "language_info": {
   "name": "python",
   "version": "3.8.10",
   "mimetype": "text/x-python",
   "codemirror_mode": {
    "name": "ipython",
    "version": 3
   },
   "pygments_lexer": "ipython3",
   "nbconvert_exporter": "python",
   "file_extension": ".py"
  },
  "kernelspec": {
   "name": "python3",
   "display_name": "Python 3.8.10 64-bit ('venv': venv)"
  },
  "interpreter": {
   "hash": "ad3f4e6ee3734041597e5129c97d1766cefd3aa095eb9fb399b71fea58beb83d"
  }
 },
 "nbformat": 4,
 "nbformat_minor": 2
}